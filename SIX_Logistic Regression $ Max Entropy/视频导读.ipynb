{
 "cells": [
  {
   "attachments": {},
   "cell_type": "markdown",
   "metadata": {},
   "source": [
    "### 逻辑斯蒂回归和最大熵模型\n",
    ">两个模型都是处理分类问题；都是对数线性模型$logP(Y|X)=wx$。逻辑斯蒂回归是判别模型，最大熵模型是生成模型。\n",
    "\n",
    "#### 逻辑斯蒂回归\n",
    "首先介绍逻辑斯蒂分布：假设X是随机变量，<span class=\"mark\">X服从逻辑斯蒂分布</span>是指X具有如下分布函数$F(x)$和密度函数$f(x)$：\n",
    "$$F(x)=P(X \\leq x)=\\frac{1}{1+e^{-\\frac {(x-u)}{\\gamma}}}$$\n",
    "$$f(x)=F'(x)=\\frac{e^{- \\frac {x-u}{\\gamma}}}{\\gamma ({1+e^{-\\frac {(x-u)}{\\gamma}}})^2}$$\n",
    "- $f(x)$是$F(x)$的导函数\n",
    "- $\\mu$是位置参数\n",
    "- $\\gamma$是形状参数\n",
    "- $F(x)$的图形是条S形曲线，曲线以$(\\mu , \\frac {1}{2})$为对称中心，即满足$$F(-x+\\mu)-\\frac {1}{2}=-F(x+\\mu)+\\frac{1}{2}$$\n",
    "  -  "
   ]
  },
  {
   "cell_type": "code",
   "execution_count": null,
   "metadata": {},
   "outputs": [],
   "source": []
  }
 ],
 "metadata": {
  "kernelspec": {
   "display_name": "Python 3",
   "language": "python",
   "name": "python3"
  },
  "language_info": {
   "codemirror_mode": {
    "name": "ipython",
    "version": 3
   },
   "file_extension": ".py",
   "mimetype": "text/x-python",
   "name": "python",
   "nbconvert_exporter": "python",
   "pygments_lexer": "ipython3",
   "version": "3.7.2"
  },
  "latex_envs": {
   "LaTeX_envs_menu_present": true,
   "autoclose": false,
   "autocomplete": true,
   "bibliofile": "biblio.bib",
   "cite_by": "apalike",
   "current_citInitial": 1,
   "eqLabelWithNumbers": true,
   "eqNumInitial": 1,
   "hotkeys": {
    "equation": "Ctrl-E",
    "itemize": "Ctrl-I"
   },
   "labels_anchors": false,
   "latex_user_defs": false,
   "report_style_numbering": false,
   "user_envs_cfg": false
  },
  "nbTranslate": {
   "displayLangs": [
    "*"
   ],
   "hotkey": "alt-t",
   "langInMainMenu": true,
   "sourceLang": "en",
   "targetLang": "fr",
   "useGoogleTranslate": true
  }
 },
 "nbformat": 4,
 "nbformat_minor": 2
}
