{
 "cells": [
  {
   "cell_type": "markdown",
   "metadata": {},
   "source": [
    "### KNN导读\n",
    ">k-近邻算法（k-nearest neighbor, k-NN）是一种基本分类和回归的算法。k近邻算法中的输入为实例的特征向量，输出为实例的类别，类别可以有多类。算法主要思想：\n",
    "- 给定一个训练集的数据，实例的类别已定\n",
    "- 对于新的实例，根据k个最近邻的训练实例的类别，经投票表决等方式进行预测\n",
    "- 算法不具有显式的学习过程，实际上利用训练集对特征向量空间进行划分\n",
    "\n",
    "### KNN三要素\n",
    "- k的选择：k值如何选择？越大越好吗？奇偶性如何？经验值是多少？\n",
    "- 距离度量：选择什么距离来进行度量新实例和训练集上点的距离？\n",
    "- 分类决策规则：选择怎样的规则来对距离进行分类，从而判断新实例属于哪个类？\n",
    "\n",
    "### k近邻算法\n",
    ">直观解释：给定一个训练数据集，对于新输入的实例，在训练集数据中找出和该实例最邻近的k个实例。这k个实例中的多数属于某个类，就将新实例划分为这个类别。\n",
    "输入训练数据集：\n",
    "$$T=\\{(x_1,y_1),(x_2,y_2),...(x_i,y_i)....(x_N,y_N)\\}$$\n",
    "其中，x<sub>i</sub>为实例特征向量，y<sub>i</sub>为实例的类别；i=1,2,3,...N。\n",
    "输出：实例x所属的类别y\n",
    "\n",
    "- 根据给定的距离度量，在训练集T中找出与x最近邻的k个点，涵盖这个k个点的x的邻域记作：N<sub>k</sub>(x)\n",
    "- 在邻域N<sub>k</sub>(x)中根据分类规则决定x的类别y\n",
    "$$y = \\mathop {arg max}\\limits_{c_j}\\sum_{x_i\\in{N_k(x)}}I(y_i=c_j), i=1,2...,N;j=1,2,...K$$\n",
    "\n",
    "上式中，I为指示函数，即当：y<sub>i</sub>=c<sub>j</sub>是为1，不等则为0\n",
    "\n",
    "- k=1称之为最近邻算法。对于输入的新实例，将训练集中离x**最近点**的所属类作为x的类别\n",
    "\n",
    "### k近邻模型\n",
    "k近邻算法的模型主要是有三个要素:\n",
    "- 距离度量\n",
    "- k值的选择\n",
    "- 分类决策规则的规定\n",
    "\n",
    "#### 距离度量\n",
    ">特征空间中两个实例点的距离是两个实例点相似度的反应。k近邻模型的特征空间一般是n维实数向量空间$R^n$。一般使用的欧式距离，也可以是其他距离，如：$L_p$距离，或者`Minkowski`距离。\n",
    "\n",
    "假设特征空间$X$是n维实数向量空间$R^n$，${x_i,x_j}\\in X$，其中$x_i=(x_i^{(1)},x_i^{(2)},....,x_i^{(n)})$，\n",
    "$x_j=(x_j^{(1)},x_j^{(2)},....,x_j^{(n)})$\n",
    "\n",
    "$x_i,x_j$的$L_p$的距离定义为$$L_p(x_i,x_j)=(\\sum_{l=1}^{n}|x_i^{(l)}-x_j^{(l)}|^p)^\\frac{1}{p}$$\n",
    "实际上就是明科夫斯基距离\n",
    "\n",
    "规定：$p\\geq1$\n",
    "\n",
    "- 当$p=2$时，即为欧式距离，即：$$L_2(x_i,x_j)=(\\sum_{l=1}^{n}|x_i^{(l)}-x_j^{(l)}|^2)^\\frac{1}{2}$$\n",
    "- 当$p=1$时，即为曼哈顿距离，即：$$L_1(x_i,x_j)=(\\sum_{l=1}^{n}|x_i^{(l)}-x_j^{(l)}|$$\n",
    "- 当$p$趋于无穷，它是各个坐标距离的最大值：$$L_{\\infty}(x_i,x_j)=\\mathop {max}\\limits_{l}|x_i^{(l)}-x_j^{(l)}|$$"
   ]
  },
  {
   "cell_type": "code",
   "execution_count": 2,
   "metadata": {},
   "outputs": [],
   "source": [
    "import numpy as np\n",
    "from math import sqrt\n",
    "import matplotlib.pyplot as plt\n",
    "from collections import Counter\n",
    "\n",
    "X_train_data = [[3.398183738, 2.339748328],\n",
    "                [3.111980280, 1.782018048],\n",
    "                [1.349838271, 3.368108483],\n",
    "                [3.501848049, 4.610848042],\n",
    "                [2.201804871, 2.091948545], \n",
    "                [7.428401824, 4.610948028],\n",
    "                [5.710380481, 3.530184804],\n",
    "                [9.171974792, 2.518408280],\n",
    "                [7.791837634, 3.401848052],\n",
    "                [7.901804805, 0.791794974]]\n",
    "y_train_data = [1, 0, 1, 0, 0, 1, 0, 1, 0, 1]"
   ]
  },
  {
   "cell_type": "code",
   "execution_count": 3,
   "metadata": {},
   "outputs": [],
   "source": [
    "# 将原始数据转换成numpy的np.array()\n",
    "X_train = np.array(X_train_data)\n",
    "y_train = np.array(y_train_data)"
   ]
  },
  {
   "cell_type": "code",
   "execution_count": 4,
   "metadata": {},
   "outputs": [
    {
     "data": {
      "text/plain": [
       "array([[3.39818374, 2.33974833],\n",
       "       [3.11198028, 1.78201805],\n",
       "       [1.34983827, 3.36810848],\n",
       "       [3.50184805, 4.61084804],\n",
       "       [2.20180487, 2.09194855],\n",
       "       [7.42840182, 4.61094803],\n",
       "       [5.71038048, 3.5301848 ],\n",
       "       [9.17197479, 2.51840828],\n",
       "       [7.79183763, 3.40184805],\n",
       "       [7.90180481, 0.79179497]])"
      ]
     },
     "execution_count": 4,
     "metadata": {},
     "output_type": "execute_result"
    }
   ],
   "source": [
    "# 全部样本\n",
    "X_train"
   ]
  },
  {
   "cell_type": "code",
   "execution_count": 5,
   "metadata": {},
   "outputs": [
    {
     "data": {
      "text/plain": [
       "(10, 2)"
      ]
     },
     "execution_count": 5,
     "metadata": {},
     "output_type": "execute_result"
    }
   ],
   "source": [
    "# shape属性中（10,2）：10表示样本个数，2表示特征数（列属性个数）\n",
    "X_train.shape"
   ]
  },
  {
   "cell_type": "code",
   "execution_count": 6,
   "metadata": {},
   "outputs": [],
   "source": [
    "# 带预测的数据\n",
    "x = np.array([5.619483842, 2.419847827])"
   ]
  },
  {
   "cell_type": "code",
   "execution_count": 7,
   "metadata": {},
   "outputs": [
    {
     "data": {
      "image/png": "[encoded data removed]",
      "text/plain": [
       "<Figure size 432x288 with 1 Axes>"
      ]
     },
     "metadata": {
      "needs_background": "light"
     },
     "output_type": "display_data"
    }
   ],
   "source": [
    "# scatter中的参数分别是x，y和color\n",
    "# 制图中的两个坐标参数表示X_train中每个样本点的值\n",
    "# X_train[y_train == 0,0]中，第一个0表示y取值为0，第二个0表示样本中第一个属性的值\n",
    "plt.scatter(X_train[y_train == 0,0], X_train[y_train == 0,1], color='g')\n",
    "plt.scatter(X_train[y_train == 1,0], X_train[y_train == 1,1], color='r')\n",
    "plt.scatter(x[0], x[1], color='b')\n",
    "plt.show()"
   ]
  },
  {
   "cell_type": "code",
   "execution_count": 8,
   "metadata": {},
   "outputs": [
    {
     "data": {
      "text/plain": [
       "array([False,  True, False,  True,  True, False,  True, False,  True,\n",
       "       False])"
      ]
     },
     "execution_count": 8,
     "metadata": {},
     "output_type": "execute_result"
    }
   ],
   "source": [
    "y_train == 0"
   ]
  },
  {
   "cell_type": "code",
   "execution_count": 9,
   "metadata": {},
   "outputs": [
    {
     "data": {
      "text/plain": [
       "array([[3.11198028, 1.78201805],\n",
       "       [3.50184805, 4.61084804],\n",
       "       [2.20180487, 2.09194855],\n",
       "       [5.71038048, 3.5301848 ],\n",
       "       [7.79183763, 3.40184805]])"
      ]
     },
     "execution_count": 9,
     "metadata": {},
     "output_type": "execute_result"
    }
   ],
   "source": [
    "# 取出所有y值为0的x值：布尔索引，取出True的值\n",
    "X_train[y_train == 0]"
   ]
  },
  {
   "cell_type": "code",
   "execution_count": 10,
   "metadata": {},
   "outputs": [
    {
     "data": {
      "text/plain": [
       "array([3.11198028, 3.50184805, 2.20180487, 5.71038048, 7.79183763])"
      ]
     },
     "execution_count": 10,
     "metadata": {},
     "output_type": "execute_result"
    }
   ],
   "source": [
    "# 取出上面值每个列表中的第一个元素，作为绘图的横坐标\n",
    "X_train[y_train == 0,0]"
   ]
  },
  {
   "cell_type": "code",
   "execution_count": 11,
   "metadata": {},
   "outputs": [
    {
     "data": {
      "text/plain": [
       "array([1.78201805, 4.61084804, 2.09194855, 3.5301848 , 3.40184805])"
      ]
     },
     "execution_count": 11,
     "metadata": {},
     "output_type": "execute_result"
    }
   ],
   "source": [
    "# 纵坐标的取值\n",
    "X_train[y_train == 0,1]"
   ]
  },
  {
   "cell_type": "markdown",
   "metadata": {},
   "source": [
    "### KNN基础"
   ]
  },
  {
   "cell_type": "code",
   "execution_count": 12,
   "metadata": {},
   "outputs": [],
   "source": [
    "# 计算样本中每个实例数据和待测数据的欧氏距离计算，存入列表中\n",
    "distances = []\n",
    "for x_train in X_train:\n",
    "    d = sqrt(np.sum((x_train - x) ** 2))\n",
    "    distances.append(d)"
   ]
  },
  {
   "cell_type": "code",
   "execution_count": 13,
   "metadata": {},
   "outputs": [
    {
     "data": {
      "text/plain": [
       "[2.222743818295411,\n",
       " 2.5873540423416888,\n",
       " 4.373679409110534,\n",
       " 3.047107365014365,\n",
       " 3.4333726112893332,\n",
       " 2.8413208823406753,\n",
       " 1.1140513459778212,\n",
       " 3.5538579196033524,\n",
       " 2.3839977851325345,\n",
       " 2.803488018578051]"
      ]
     },
     "execution_count": 13,
     "metadata": {},
     "output_type": "execute_result"
    }
   ],
   "source": [
    "distances"
   ]
  },
  {
   "cell_type": "code",
   "execution_count": 14,
   "metadata": {},
   "outputs": [],
   "source": [
    "# 上面的通过for列表解析式解决\n",
    "distances = [sqrt(np.sum((x_train - x) ** 2)) for x_train in X_train]"
   ]
  },
  {
   "cell_type": "code",
   "execution_count": 15,
   "metadata": {},
   "outputs": [
    {
     "data": {
      "text/plain": [
       "array([6, 0, 8, 1, 9, 5, 3, 4, 7, 2], dtype=int64)"
      ]
     },
     "execution_count": 15,
     "metadata": {},
     "output_type": "execute_result"
    }
   ],
   "source": [
    "# argsort函数返回上面数组值从小到大的索引值\n",
    "nearest = np.argsort(distances)\n",
    "nearest"
   ]
  },
  {
   "cell_type": "code",
   "execution_count": 16,
   "metadata": {},
   "outputs": [
    {
     "data": {
      "text/plain": [
       "6"
      ]
     },
     "execution_count": 16,
     "metadata": {},
     "output_type": "execute_result"
    }
   ],
   "source": [
    "nearest[0]"
   ]
  },
  {
   "cell_type": "code",
   "execution_count": 18,
   "metadata": {},
   "outputs": [
    {
     "data": {
      "text/plain": [
       "[0, 1, 0, 0, 1]"
      ]
     },
     "execution_count": 18,
     "metadata": {},
     "output_type": "execute_result"
    }
   ],
   "source": [
    "# 取出前K个最小值\n",
    "# nearest中索引代表的前6个值距离比较小\n",
    "# i代表k个最小值的索引，通过索引对应y_train的值\n",
    "k = 5\n",
    "topK_y = [y_train[i] for i in nearest[:k]]\n",
    "topK_y"
   ]
  },
  {
   "cell_type": "code",
   "execution_count": 19,
   "metadata": {},
   "outputs": [],
   "source": [
    "# Counter统计每个元素出现的次数\n",
    "votes = Counter(topK_y)"
   ]
  },
  {
   "cell_type": "code",
   "execution_count": 21,
   "metadata": {},
   "outputs": [
    {
     "data": {
      "text/plain": [
       "[(0, 3), (1, 2)]"
      ]
     },
     "execution_count": 21,
     "metadata": {},
     "output_type": "execute_result"
    }
   ],
   "source": [
    "# 找出最靠前的2个元素\n",
    "votes.most_common(2)"
   ]
  },
  {
   "cell_type": "code",
   "execution_count": 22,
   "metadata": {},
   "outputs": [
    {
     "data": {
      "text/plain": [
       "0"
      ]
     },
     "execution_count": 22,
     "metadata": {},
     "output_type": "execute_result"
    }
   ],
   "source": [
    "# 取出最多的第一个，再从列表中取出元组再取出元素\n",
    "votes.most_common(1)[0][0]"
   ]
  },
  {
   "cell_type": "markdown",
   "metadata": {},
   "source": [
    "### KNN代码重构"
   ]
  },
  {
   "cell_type": "code",
   "execution_count": 180,
   "metadata": {},
   "outputs": [],
   "source": [
    "%run KNN_classify.py"
   ]
  },
  {
   "cell_type": "code",
   "execution_count": 181,
   "metadata": {},
   "outputs": [],
   "source": [
    "predict_y = KNN_classify(6, X_train, y_train, x)"
   ]
  },
  {
   "cell_type": "code",
   "execution_count": 182,
   "metadata": {},
   "outputs": [
    {
     "data": {
      "text/plain": [
       "0"
      ]
     },
     "execution_count": 182,
     "metadata": {},
     "output_type": "execute_result"
    }
   ],
   "source": [
    "predict_y "
   ]
  },
  {
   "cell_type": "markdown",
   "metadata": {},
   "source": [
    "### 调用scikit-learn 进行实现"
   ]
  },
  {
   "cell_type": "code",
   "execution_count": 183,
   "metadata": {},
   "outputs": [],
   "source": [
    "from sklearn.neighbors import KNeighborsClassifier"
   ]
  },
  {
   "cell_type": "code",
   "execution_count": 184,
   "metadata": {},
   "outputs": [],
   "source": [
    "# 相当于传如入k值\n",
    "KNN_classifier = KNeighborsClassifier(n_neighbors=6) "
   ]
  },
  {
   "cell_type": "code",
   "execution_count": 185,
   "metadata": {},
   "outputs": [
    {
     "data": {
      "text/plain": [
       "KNeighborsClassifier(algorithm='auto', leaf_size=30, metric='minkowski',\n",
       "                     metric_params=None, n_jobs=None, n_neighbors=6, p=2,\n",
       "                     weights='uniform')"
      ]
     },
     "execution_count": 185,
     "metadata": {},
     "output_type": "execute_result"
    }
   ],
   "source": [
    "KNN_classifier.fit(X_train, y_train)"
   ]
  },
  {
   "cell_type": "code",
   "execution_count": 186,
   "metadata": {},
   "outputs": [],
   "source": [
    "X_predict = x.reshape(1, -1)"
   ]
  },
  {
   "cell_type": "code",
   "execution_count": 187,
   "metadata": {},
   "outputs": [
    {
     "data": {
      "text/plain": [
       "array([0])"
      ]
     },
     "execution_count": 187,
     "metadata": {},
     "output_type": "execute_result"
    }
   ],
   "source": [
    "KNN_classifier.predict(X_predict)"
   ]
  },
  {
   "cell_type": "code",
   "execution_count": 188,
   "metadata": {},
   "outputs": [],
   "source": [
    "y_predict = KNN_classifier.predict(X_predict)"
   ]
  },
  {
   "cell_type": "code",
   "execution_count": 189,
   "metadata": {},
   "outputs": [
    {
     "data": {
      "text/plain": [
       "0"
      ]
     },
     "execution_count": 189,
     "metadata": {},
     "output_type": "execute_result"
    }
   ],
   "source": [
    "y_predict[0]"
   ]
  }
 ],
 "metadata": {
  "kernelspec": {
   "display_name": "Python 3",
   "language": "python",
   "name": "python3"
  },
  "language_info": {
   "codemirror_mode": {
    "name": "ipython",
    "version": 3
   },
   "file_extension": ".py",
   "mimetype": "text/x-python",
   "name": "python",
   "nbconvert_exporter": "python",
   "pygments_lexer": "ipython3",
   "version": "3.7.2"
  },
  "latex_envs": {
   "LaTeX_envs_menu_present": true,
   "autoclose": false,
   "autocomplete": true,
   "bibliofile": "biblio.bib",
   "cite_by": "apalike",
   "current_citInitial": 1,
   "eqLabelWithNumbers": true,
   "eqNumInitial": 1,
   "hotkeys": {
    "equation": "Ctrl-E",
    "itemize": "Ctrl-I"
   },
   "labels_anchors": false,
   "latex_user_defs": false,
   "report_style_numbering": false,
   "user_envs_cfg": false
  },
  "nbTranslate": {
   "displayLangs": [
    "*"
   ],
   "hotkey": "alt-t",
   "langInMainMenu": true,
   "sourceLang": "en",
   "targetLang": "fr",
   "useGoogleTranslate": true
  }
 },
 "nbformat": 4,
 "nbformat_minor": 2
}
