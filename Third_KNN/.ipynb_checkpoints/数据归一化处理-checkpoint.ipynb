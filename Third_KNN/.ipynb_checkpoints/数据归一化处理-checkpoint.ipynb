{
 "cells": [
  {
   "cell_type": "markdown",
   "metadata": {},
   "source": [
    "### 数据归一化处理\n",
    "将所有的数据映射到同一个尺度上\n",
    "- 最值归一化：数据映射到0-1上面$$X_{scale}= \\frac{x-x_{min}}{x_{max}-x_{min}}$$\n",
    "    - 适合分布明显边界的情况：比如考试分数，像素边界\n",
    "    - 缺点：受outlier影响，比如收入没有边界\n",
    "- 均值方差归一化`standardization`：均值为0，方差为1的分布中$$x_{scale}=\\frac{x-{x_{mean}}}{s}$$\n",
    "    - 数据分布没有明显边界\n",
    "    - 可能存在极端数据"
   ]
  },
  {
   "cell_type": "code",
   "execution_count": 1,
   "metadata": {},
   "outputs": [],
   "source": [
    "import numpy as np\n",
    "import matplotlib.pyplot as plt"
   ]
  },
  {
   "cell_type": "code",
   "execution_count": 2,
   "metadata": {},
   "outputs": [],
   "source": [
    "x = np.random.randint(0, 100, size=100)"
   ]
  },
  {
   "cell_type": "code",
   "execution_count": 3,
   "metadata": {},
   "outputs": [
    {
     "data": {
      "text/plain": [
       "array([98, 67, 59, 86, 71, 77, 44, 88, 15, 27, 32, 28,  0, 52, 35, 31, 39,\n",
       "       76,  0, 48, 55, 24, 53, 91, 62, 77, 23, 86,  3, 18, 34, 22, 36, 30,\n",
       "       29, 33, 38,  2, 41, 86, 18, 24, 57,  5, 96, 37, 72, 24, 24, 15, 84,\n",
       "       87, 14, 12, 39, 84, 42, 28,  8, 29, 18, 80, 65,  5, 98, 10, 32, 41,\n",
       "        9, 17, 43, 68,  2, 84,  1, 23, 12, 42, 84, 17, 79, 74, 54,  5,  1,\n",
       "       73, 35, 13, 10, 27, 56, 47, 55, 14, 48, 42, 35, 75, 37, 48])"
      ]
     },
     "execution_count": 3,
     "metadata": {},
     "output_type": "execute_result"
    }
   ],
   "source": [
    "x"
   ]
  },
  {
   "cell_type": "code",
   "execution_count": 4,
   "metadata": {},
   "outputs": [
    {
     "data": {
      "text/plain": [
       "array([1.        , 0.68367347, 0.60204082, 0.87755102, 0.7244898 ,\n",
       "       0.78571429, 0.44897959, 0.89795918, 0.15306122, 0.2755102 ,\n",
       "       0.32653061, 0.28571429, 0.        , 0.53061224, 0.35714286,\n",
       "       0.31632653, 0.39795918, 0.7755102 , 0.        , 0.48979592,\n",
       "       0.56122449, 0.24489796, 0.54081633, 0.92857143, 0.63265306,\n",
       "       0.78571429, 0.23469388, 0.87755102, 0.03061224, 0.18367347,\n",
       "       0.34693878, 0.2244898 , 0.36734694, 0.30612245, 0.29591837,\n",
       "       0.33673469, 0.3877551 , 0.02040816, 0.41836735, 0.87755102,\n",
       "       0.18367347, 0.24489796, 0.58163265, 0.05102041, 0.97959184,\n",
       "       0.37755102, 0.73469388, 0.24489796, 0.24489796, 0.15306122,\n",
       "       0.85714286, 0.8877551 , 0.14285714, 0.12244898, 0.39795918,\n",
       "       0.85714286, 0.42857143, 0.28571429, 0.08163265, 0.29591837,\n",
       "       0.18367347, 0.81632653, 0.66326531, 0.05102041, 1.        ,\n",
       "       0.10204082, 0.32653061, 0.41836735, 0.09183673, 0.17346939,\n",
       "       0.43877551, 0.69387755, 0.02040816, 0.85714286, 0.01020408,\n",
       "       0.23469388, 0.12244898, 0.42857143, 0.85714286, 0.17346939,\n",
       "       0.80612245, 0.75510204, 0.55102041, 0.05102041, 0.01020408,\n",
       "       0.74489796, 0.35714286, 0.13265306, 0.10204082, 0.2755102 ,\n",
       "       0.57142857, 0.47959184, 0.56122449, 0.14285714, 0.48979592,\n",
       "       0.42857143, 0.35714286, 0.76530612, 0.37755102, 0.48979592])"
      ]
     },
     "execution_count": 4,
     "metadata": {},
     "output_type": "execute_result"
    }
   ],
   "source": [
    "(x - np.min(x)) / (np.max(x) - np.min(x))"
   ]
  },
  {
   "cell_type": "code",
   "execution_count": 13,
   "metadata": {},
   "outputs": [],
   "source": [
    "# 生成50*2的矩阵\n",
    "X = np.random.randint(0, 100, (50, 2))"
   ]
  },
  {
   "cell_type": "code",
   "execution_count": 14,
   "metadata": {},
   "outputs": [
    {
     "data": {
      "text/plain": [
       "array([[25, 30],\n",
       "       [11,  7],\n",
       "       [80, 38],\n",
       "       [ 9, 97],\n",
       "       [46, 68],\n",
       "       [13, 84],\n",
       "       [45, 53],\n",
       "       [58, 67],\n",
       "       [82, 67],\n",
       "       [17, 78]])"
      ]
     },
     "execution_count": 14,
     "metadata": {},
     "output_type": "execute_result"
    }
   ],
   "source": [
    "# 冒号代表所有，前面是行，后面是列\n",
    "X[:10, :]"
   ]
  },
  {
   "cell_type": "code",
   "execution_count": 16,
   "metadata": {},
   "outputs": [
    {
     "data": {
      "text/plain": [
       "array([[25., 30.],\n",
       "       [11.,  7.],\n",
       "       [80., 38.],\n",
       "       [ 9., 97.],\n",
       "       [46., 68.],\n",
       "       [13., 84.],\n",
       "       [45., 53.],\n",
       "       [58., 67.],\n",
       "       [82., 67.],\n",
       "       [17., 78.]])"
      ]
     },
     "execution_count": 16,
     "metadata": {},
     "output_type": "execute_result"
    }
   ],
   "source": [
    "X = np.array(X, dtype=float)\n",
    "X[:10, :]"
   ]
  },
  {
   "cell_type": "code",
   "execution_count": 19,
   "metadata": {},
   "outputs": [],
   "source": [
    "X[:,0] = (X[:, 0] - np.min(X[:, 0])) / (np.max(X[:,0]) - np.min(X[:,0]))"
   ]
  },
  {
   "cell_type": "code",
   "execution_count": 20,
   "metadata": {},
   "outputs": [],
   "source": [
    "X[:,1] = (X[:, 1] - np.min(X[:, 1])) / (np.max(X[:,1]) - np.min(X[:,1]))"
   ]
  },
  {
   "cell_type": "code",
   "execution_count": 22,
   "metadata": {},
   "outputs": [
    {
     "data": {
      "text/plain": [
       "array([[0.25252525, 0.27368421],\n",
       "       [0.11111111, 0.03157895],\n",
       "       [0.80808081, 0.35789474],\n",
       "       [0.09090909, 0.97894737],\n",
       "       [0.46464646, 0.67368421],\n",
       "       [0.13131313, 0.84210526],\n",
       "       [0.45454545, 0.51578947],\n",
       "       [0.58585859, 0.66315789],\n",
       "       [0.82828283, 0.66315789],\n",
       "       [0.17171717, 0.77894737]])"
      ]
     },
     "execution_count": 22,
     "metadata": {},
     "output_type": "execute_result"
    }
   ],
   "source": [
    "X[:10 ,:]"
   ]
  },
  {
   "cell_type": "code",
   "execution_count": 23,
   "metadata": {},
   "outputs": [
    {
     "data": {
      "image/png": "[encoded data removed]",
      "text/plain": [
       "<Figure size 432x288 with 1 Axes>"
      ]
     },
     "metadata": {
      "needs_background": "light"
     },
     "output_type": "display_data"
    }
   ],
   "source": [
    "plt.scatter(X[:,0], X[:, 1])\n",
    "plt.show()"
   ]
  },
  {
   "cell_type": "code",
   "execution_count": 24,
   "metadata": {},
   "outputs": [
    {
     "data": {
      "text/plain": [
       "0.49313131313131314"
      ]
     },
     "execution_count": 24,
     "metadata": {},
     "output_type": "execute_result"
    }
   ],
   "source": [
    "np.mean(X[:, 0])"
   ]
  },
  {
   "cell_type": "code",
   "execution_count": 25,
   "metadata": {},
   "outputs": [
    {
     "data": {
      "text/plain": [
       "0.2908858716884058"
      ]
     },
     "execution_count": 25,
     "metadata": {},
     "output_type": "execute_result"
    }
   ],
   "source": [
    "np.std(X[:, 0])"
   ]
  },
  {
   "cell_type": "markdown",
   "metadata": {},
   "source": [
    "### 均值方差归一化"
   ]
  },
  {
   "cell_type": "code",
   "execution_count": 26,
   "metadata": {},
   "outputs": [],
   "source": [
    "# 生成50*2的矩阵\n",
    "X2 = np.random.randint(0, 100, (50, 2))"
   ]
  },
  {
   "cell_type": "code",
   "execution_count": 27,
   "metadata": {},
   "outputs": [],
   "source": [
    "X2 = np.array(X2, dtype=float)"
   ]
  },
  {
   "cell_type": "code",
   "execution_count": 29,
   "metadata": {},
   "outputs": [
    {
     "data": {
      "text/plain": [
       "array([[99., 56.],\n",
       "       [43., 65.],\n",
       "       [47., 78.],\n",
       "       [84., 42.],\n",
       "       [90., 67.],\n",
       "       [87.,  4.],\n",
       "       [78., 91.],\n",
       "       [11., 35.],\n",
       "       [36., 27.],\n",
       "       [33., 91.]])"
      ]
     },
     "execution_count": 29,
     "metadata": {},
     "output_type": "execute_result"
    }
   ],
   "source": [
    "X2[:10, :]"
   ]
  },
  {
   "cell_type": "code",
   "execution_count": 30,
   "metadata": {},
   "outputs": [],
   "source": [
    "X2[:,0] = (X2[:, 0] - np.mean(X2[:, 0])) / np.std(X2[:,0])"
   ]
  },
  {
   "cell_type": "code",
   "execution_count": 31,
   "metadata": {},
   "outputs": [],
   "source": [
    "X2[:,1] = (X2[:, 1] - np.mean(X2[:, 1])) / np.std(X2[:,1])"
   ]
  },
  {
   "cell_type": "code",
   "execution_count": 32,
   "metadata": {},
   "outputs": [
    {
     "data": {
      "image/png": "[encoded data removed]",
      "text/plain": [
       "<Figure size 432x288 with 1 Axes>"
      ]
     },
     "metadata": {
      "needs_background": "light"
     },
     "output_type": "display_data"
    }
   ],
   "source": [
    "plt.scatter(X2[:,0], X2[:, 1])\n",
    "plt.show()"
   ]
  },
  {
   "cell_type": "code",
   "execution_count": 34,
   "metadata": {},
   "outputs": [
    {
     "data": {
      "text/plain": [
       "3.1086244689504386e-17"
      ]
     },
     "execution_count": 34,
     "metadata": {},
     "output_type": "execute_result"
    }
   ],
   "source": [
    "np.mean(X2[:, 0])"
   ]
  },
  {
   "cell_type": "code",
   "execution_count": 35,
   "metadata": {},
   "outputs": [
    {
     "data": {
      "text/plain": [
       "1.0"
      ]
     },
     "execution_count": 35,
     "metadata": {},
     "output_type": "execute_result"
    }
   ],
   "source": [
    "np.std(X2[:,0])"
   ]
  },
  {
   "cell_type": "markdown",
   "metadata": {},
   "source": [
    "### 测试集如何归一化\n",
    "归一化的时候需要注意：$$\\frac{x_{test}-{mean}$$"
   ]
  },
  {
   "cell_type": "code",
   "execution_count": null,
   "metadata": {},
   "outputs": [],
   "source": []
  }
 ],
 "metadata": {
  "kernelspec": {
   "display_name": "Python 3",
   "language": "python",
   "name": "python3"
  },
  "language_info": {
   "codemirror_mode": {
    "name": "ipython",
    "version": 3
   },
   "file_extension": ".py",
   "mimetype": "text/x-python",
   "name": "python",
   "nbconvert_exporter": "python",
   "pygments_lexer": "ipython3",
   "version": "3.7.2"
  }
 },
 "nbformat": 4,
 "nbformat_minor": 2
}
