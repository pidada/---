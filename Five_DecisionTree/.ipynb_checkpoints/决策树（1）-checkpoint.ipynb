{
 "cells": [
  {
   "cell_type": "markdown",
   "metadata": {},
   "source": [
    "### 决策树\n",
    "#### 导读\n",
    "决策树`Decision Tree`是一种基本的**分类**和**回归**方法。决策树模型呈现树形结构，在分类问题上，主要是基于特征对样本实例进行分类。其主要是的优点是：\n",
    "- 模型具有可读性和解释型，推理过程容易理解，决策推理过程可以表示为`if - then`的形式\n",
    "- 在训练数据的时候，根据损失函数最小化的原则建立决策树模型\n",
    "- 推理过程完全取决于属性变量的取值特点\n",
    "- 可以自动忽略没有贡献的属性变量，为判断属性的重要性，减少变量的数目提供参考，提高分类速度\n",
    "\n",
    "#### 三个步骤\n",
    "- 特征选择\n",
    "- 决策树的生成\n",
    "- 决策树的修剪\n",
    "   - 预剪枝\n",
    "   - 后剪枝\n",
    "   \n",
    "#### 常用的算法\n",
    "- ID3\n",
    "- C4.5\n",
    "- CART\n",
    "\n",
    "---\n",
    "### 决策树模型与学习\n",
    "#### 定义\n",
    ">分类决策树模型是一种描述实例进行分类的树形结构。决策树由节点`node`、有向边`directed edge`组成。节点分为两种：\n",
    "- 内部节点：`internal node`，表示一个特征或者属性\n",
    "- 叶子节点：`leaf node`，表示一个具体的类\n",
    "\n",
    "**具体过程**：根节点开始，对实例的某一个特征进行分类，根据测试结果，将实例分配到其子节点；子节点对应着该特征的一个取值。递归分配，直至到达叶结点，最后将实例分配到叶结点的类中。"
   ]
  },
  {
   "cell_type": "code",
   "execution_count": null,
   "metadata": {},
   "outputs": [],
   "source": []
  }
 ],
 "metadata": {
  "kernelspec": {
   "display_name": "Python 3",
   "language": "python",
   "name": "python3"
  },
  "language_info": {
   "codemirror_mode": {
    "name": "ipython",
    "version": 3
   },
   "file_extension": ".py",
   "mimetype": "text/x-python",
   "name": "python",
   "nbconvert_exporter": "python",
   "pygments_lexer": "ipython3",
   "version": "3.7.2"
  }
 },
 "nbformat": 4,
 "nbformat_minor": 2
}
