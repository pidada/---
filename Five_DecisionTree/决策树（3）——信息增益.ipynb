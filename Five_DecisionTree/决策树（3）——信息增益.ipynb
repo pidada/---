{
 "cells": [
  {
   "cell_type": "markdown",
   "metadata": {},
   "source": [
    "### 信息增益\n",
    "#### 信息增益\n",
    "##### 算法思想\n",
    "信息增益的算法过程为：\n",
    "- 出入：训练数据集`D`和特征`A`\n",
    "- 输出：特征A对训练数据集D的信息增益$g(D,A)$\n",
    "具体过程解释为：\n",
    "    - 先计算数据集D的经验熵$H(D)$\n",
    "$$H(D)=- \\sum _{k=1}^{K} \\frac{|C_k|}{|D|} \\sum _{k=1}^{K} \\frac{|D_{ik}|}{|D_i|}log_2 \\frac {|D_{ik}|}{|D_i|}$$\n",
    "上式表示为：样本中每个类的在总样本的占比，然后求出经验熵$H(D)$\n",
    "\n",
    "    - 计算特征A对数据集D的经验条件熵$H(D|A)$：表示在特征A的条件下，数据集D的条件熵\n",
    "$$H(D|A)=\\sum _{i=1}^{n}\\frac{|D_i|}{|D|}H(D_i)=-\\sum _{i=1}^{n}\\frac{|D_i|}{|D|} \\sum _{k=1}^{K} \\frac{|D_{ik}|}{|D_i|}log_2 \\frac{|D_{ik}|}{|D_i|}$$\n",
    "    - 计算信息增益：$$g(D,A)=H(D)-H(D|A)$$\n",
    "    \n",
    "##### 栗子    \n",
    "    \n",
    "#### 信息增益率\n",
    "以信息增益作为划分训练数据集的特征，存在一个问题：分类结果偏向于选择取值较多的特征。利用信息增益率可以校正这个问题。信息增益率定义为：\n",
    ">特征A对训练数据集D的信息增益比为$g_R{(D,A)}$，定义为其信息增益$g{(D,A)}$与训练数据集D关于特征A的值的熵$H_A{(D)}$之比，即$$g_R(D,A)=\\frac {g(D,A)}{H_A(D)}$$其中，$H_A{(D)}=- \\sum _{i=1}^{n}\\frac{|D_i|}{|D|}log_2 \\frac {|D_i|}{|D|}$，n是特征A取值的个数。"
   ]
  },
  {
   "cell_type": "code",
   "execution_count": 2,
   "metadata": {},
   "outputs": [],
   "source": [
    "import numpy as np\n",
    "import math"
   ]
  },
  {
   "cell_type": "code",
   "execution_count": 4,
   "metadata": {},
   "outputs": [
    {
     "data": {
      "text/plain": [
       "0.9182958340544896"
      ]
     },
     "execution_count": 4,
     "metadata": {},
     "output_type": "execute_result"
    }
   ],
   "source": [
    "# 经验熵\n",
    "- (3/9)*np.log2(3/9)- (6/9) *np.log2(6/9)"
   ]
  },
  {
   "cell_type": "code",
   "execution_count": 8,
   "metadata": {},
   "outputs": [
    {
     "data": {
      "text/plain": [
       "0.6666666666666666"
      ]
     },
     "execution_count": 8,
     "metadata": {},
     "output_type": "execute_result"
    }
   ],
   "source": [
    "# 经验条件熵\n",
    "- 1 / 9 * (np.log2(1/4)+3*np.log2(3/4)+2*np.log2(2/3)+np.log2(1/3))"
   ]
  }
 ],
 "metadata": {
  "kernelspec": {
   "display_name": "Python 3",
   "language": "python",
   "name": "python3"
  },
  "language_info": {
   "codemirror_mode": {
    "name": "ipython",
    "version": 3
   },
   "file_extension": ".py",
   "mimetype": "text/x-python",
   "name": "python",
   "nbconvert_exporter": "python",
   "pygments_lexer": "ipython3",
   "version": "3.7.2"
  }
 },
 "nbformat": 4,
 "nbformat_minor": 2
}
