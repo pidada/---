{
 "cells": [
  {
   "cell_type": "markdown",
   "metadata": {},
   "source": [
    "### Adaboost\n",
    "提升方法使用常用的统计学习方法。提升方法的基本思想：对于一个复杂的任务，将多个专家的判断进行适当地综合得到的判断，要比其中任何一个的结果都要好。\n",
    "- 强可学习：在概率近似正确的学习框架中，若存在一个多项式的学习算法能够学习它，并且准确率很高，称为`强可学习`\n",
    "- 弱可学习：如果学习的概率仅比随机预测的效果好，称为`弱可学习`\n",
    "- 一个概念强可学习的充要条件是这个概念是弱可学习的\n",
    "\n",
    "#### 提升方法步骤\n",
    "从给定的数据集中，学习得到一系列弱分类器，组合弱分类，构成强分类器。通常进行的处理是\n",
    "- 加大分类误差率小的弱分类器的权值，使其在表决中起较大的作用\n",
    "- 减小分类误差较大的弱分类器的权值，使其在表决中起较小的作用\n",
    "\n",
    "#### AdaBoost算法\n",
    "给定样本$T={(x_1,y_1),...,(x_N,y_N)},y_i\\in {+1, -1}$，$\\chi$是实例空间，$Y$是标记组合。算法过程\n",
    "- 输入：训练数据集合T，包含实例空间和标记组合；输出：最终分类器`G(x)`\n",
    "- （1）初始化数据的权值分布：$$D_1=(w_{11},...,w_{1i},...,w_{1N})$$其中$w_{1i}=\\frac{1}{N}，i=1,2,...,N$\n",
    "- （2）对于m=1,2,...,M\n",
    "    - 使用具有权值分布$D_m$的训练数据集来学习，得到基本分类器$$G_m(x):X \\to \\{-1, +1\\}$$\n",
    "    - 计算$G_m(x)$在训练数据集上的分类误差率：$$e_m=\\sum^N_{i=1}P(G_m(x_i)\\neq y_i)=\\sum w_{mi}I(G_m(x_i)\\neq y_i)$$ \n",
    "    - 计算$G_m(x)$的系数$$\\alpha_m = \\frac{1}{2}log \\frac{1-e_m}{e_m}$$\n",
    "- （3）更新训练数据的权值分布$$D_{m+1}=(w_{m+1,1},...,w_{m+1,i},...,w_{m+1,N})$$\n",
    "$$w_{m+1,i}=\\frac {w_{mi}}{Z_m}exp(-\\alpha_m y_i G_m(x_i)), i=1,2,...,N$$\n",
    "- （4）Z_m是规范化因子$$Z_m=\\sum^N_{i=1}w_{mi}exp(-\\alpha_m y_i G_m(x_i))$$\n",
    "- （5）构建基本分类器的线性组合$$f(x)=\\sum^M_{m=1}\\alpha_m G_m(x_i)$$\n",
    "- （6）得到最终的分类器\n",
    "$$G(x)=sign(f(x))=sign(\\sum^M_{m=1}\\alpha_mG_m(x))$$\n",
    "\n",
    "#### 算法说明\n",
    "- （1）中假设数据具有均匀的权值分布，每个训练样本在基本分类器上的作用是相同的\n",
    "- （2）反复学习基本分类器，每轮进行$m=1,...,M$次操作\n",
    "    - 使用当前分布的$D_m$加权的训练数据集，学习基本分类器$G_m(x)$\n",
    "    - 计算基本分类器在加权训练数据集上的分类误差率$$e_m=\\sum^N_{m=1}P(G_m(x_i)\\neq y_i)$$\n",
    "    $$e_m=\\sum_{G_m(x_i)\\neq y_i}w_{mi}$$\n",
    "    \n",
    "- 说明几点\n",
    "    - $w_{mi}$表示的是第m轮中第i个实例的权值，$\\sum^N_{i=1}w_{mi}=1$\n",
    "    - 分类误差率是被$G_m(x)$误分类样本的权值之和\n",
    "- 计算基本误分类器的系数$\\alpha_m$。$\\alpha$表示$G_m(x)$在最终分类器中的重要性"
   ]
  }
 ],
 "metadata": {
  "kernelspec": {
   "display_name": "Python 3",
   "language": "python",
   "name": "python3"
  },
  "language_info": {
   "codemirror_mode": {
    "name": "ipython",
    "version": 3
   },
   "file_extension": ".py",
   "mimetype": "text/x-python",
   "name": "python",
   "nbconvert_exporter": "python",
   "pygments_lexer": "ipython3",
   "version": "3.7.2"
  },
  "latex_envs": {
   "LaTeX_envs_menu_present": true,
   "autoclose": false,
   "autocomplete": true,
   "bibliofile": "biblio.bib",
   "cite_by": "apalike",
   "current_citInitial": 1,
   "eqLabelWithNumbers": true,
   "eqNumInitial": 1,
   "hotkeys": {
    "equation": "Ctrl-E",
    "itemize": "Ctrl-I"
   },
   "labels_anchors": false,
   "latex_user_defs": false,
   "report_style_numbering": false,
   "user_envs_cfg": false
  },
  "nbTranslate": {
   "displayLangs": [
    "*"
   ],
   "hotkey": "alt-t",
   "langInMainMenu": true,
   "sourceLang": "en",
   "targetLang": "fr",
   "useGoogleTranslate": true
  }
 },
 "nbformat": 4,
 "nbformat_minor": 2
}
