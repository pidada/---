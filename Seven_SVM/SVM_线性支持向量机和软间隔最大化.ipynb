{
 "cells": [
  {
   "cell_type": "markdown",
   "metadata": {},
   "source": [
    "### 线性支持向量机\n",
    "#### 一、产生\n",
    ">通常在数据中有些特异点（outlier），将特异点去掉，剩下的大部分数据组成的集合是线性可分的。线性不可分意味着某些点$(x_i,y_i)$不满足间隔大于或者等于的约束条件\n",
    "\n",
    "**解决办法：**\n",
    "- 对每个样本点引入松弛变量$\\xi_i \\geq 0$，使得间隔加上松弛变量之后可以满足大于等于1的约束条件，此时真正的约束条件变成：$$y_i(w \\bullet x_i+b) \\geq 1 - \\xi_i$$，同时对每个松弛变量一个惩罚项$C$，此时目标函数从$\\frac{1}{2}||w||^2$变成了$$\\frac{1}{2}||w||^2+C\\sum ^N_{i=1} \\xi_i$$\n",
    "- 惩罚参数$C$越大，对误差分类的乘法增大；反之$C$越小，对误差分类的惩罚减小\n",
    "- 目标函数两层含义\n",
    "    - 使$\\frac{1}{2}||w||^2$尽量小，也就是间隔尽量大\n",
    "    - 误分类点的个数尽量少，通过$C$进行调和\n",
    "    \n",
    "#### 二、线性不可分模型支持向量机的原始问题\n",
    "原始问题是凸二次规划问题$$\\mathop \\min _{w,b,\\xi}\\frac{1}{2}||w||^2+C\\sum ^N_{i=1} \\xi_i$$\n",
    "\n",
    "$$s.t. y_i(w \\bullet x_i+b) \\geq 1-\\xi_i,i=1,2,...,N$$\n",
    "\n",
    "$$\\xi_i \\geq 0, i=1,2,...,N$$\n",
    "\n",
    "通过上述3式子可以求出$w^*,b^*$，从而得到分离超平面$$w^* \\bullet x+b=0$$决策函数为$$f(x)=sign(w^* \\bullet x+b)$$\n",
    "这样的模型称之为**训练样本不可分时的线性支持向量机**。线性支持向量机包含线性可分支持向量机。\n",
    "\n",
    "#### 三、学习的对偶算法\n",
    "上面3个式子的对偶问题是$$\\mathop \\min _\\alpha \\frac{1}{2}\\sum^N_{i=1}\\sum^N_{j=1}\\alpha_i\\alpha_jy_iy_j(x_i \\bullet x_j)-\\sum^N_{i=1}\\alpha_i$$\n",
    "\n",
    "$$s.t.  \\sum^N_{i=1}\\alpha_iy_i=0$$\n",
    "\n",
    "$$0\\leq \\alpha_i \\leq C, i=1,2,...,N$$\n",
    "\n",
    "原始最优化问题的拉格朗日函数为$$L(w,b,\\xi,\\alpha,\\mu)=\\frac{1}{2}||w||^2+C\\sum ^N_{i=1} \\xi_i-\\sum^N_{i=1}\\alpha_i(y_i(w\\bullet x_i+b)-1+\\xi_i)-\\sum^N_{i=1}\\mu_i\\xi_i$$其中$$\\alpha_i \\geq 0,\\mu_i \\geq 0$$\n",
    "\n",
    ">学习的对偶问题转变成拉格朗日的极大极小值问题。\n",
    "- L函数分别对$w,b,\\xi$求导，令导数为0，求出三个值\n",
    "    - $w=\\sum^N_{i=1}\\alpha_iy_ix_i$\n",
    "    - $\\sum^N_{i=1}\\alpha_iy_i=0$\n",
    "    - $C-\\alpha_i-\\mu_i=0$\n",
    "- 再对$\\alpha$求出极大值，可以得到对偶问题：$P_{127}-P_{128}$，求解出$\\alpha^*=(\\alpha^*_1,\\alpha^*_2,\\alpha^*_3,...,\\alpha^*_N)^T$\n",
    "\n",
    "#### 四、对偶形式超平面和决策函数\n",
    "分离超平面$$\\sum^N_{i=1}\\alpha^*_iy_i(x \\bullet x_i)+b^*=0$$\n",
    "决策函数为$$f(x)=sign(\\sum^N_{i=1}\\alpha^*_iy_i(x \\bullet x_i)+b^*)$$\n",
    "\n",
    "#### 五、支持向量\n",
    "软间隔的支持向量$x_i$或者在间隔边界上，或者在间隔边界和分离超平面之间，或者在分离超平面的误分一侧\n",
    "- $\\alpha^*_i < C$，则$\\xi_i=0$，支持向量刚好落在了间隔边界上\n",
    "- $\\alpha^*_i = C,0 < \\xi_i < 1$，则分类正确，支持向量位于间隔边界和分离超平面之间\n",
    "- $\\alpha^*_i = C,\\xi_i > 1$，则$x_i$位于分离超平面误分一侧\n",
    "\n",
    "**线性支持向量机的三要素**\n",
    "- 模型：分离超平面和决策函数\n",
    "- 学习策略：软间隔最大化\n",
    "- 学习方法：凸二次规划问题\n",
    "\n",
    "\n",
    "### 合页函数\n",
    "线性支持向量机学习的另一种解释为**最小化目标函数**$$\\sum^N_{i=1}[1-y_i(w \\bullet x_i+b)]_{+}+\\lambda||w||^2$$上式中，第一项是经验损失或者称之为经验风险，函数$$L(y(w \\bullet x+b)=[1-y(w \\bullet x+b)]_+$$称之为**合页函数**下标\"+\"表示如下取正值的函数\n",
    "$$[z]_+=\\begin{cases}\n",
    "z,\\quad z > 0 \\\\\n",
    "0,\\quad z \\leq 0\n",
    "\\end{cases}$$\n",
    "\n",
    "当样本点被正确分类且函数间隔（确信度）$y_i(w \\bullet x_i+b)>1$时，损失函数是0；否则是$1-y_i(w\\bullet x_i+b)$。目标函数的第二项是系数为$lambda$的$w$的$L_2$范数，是正则化项。"
   ]
  },
  {
   "cell_type": "code",
   "execution_count": null,
   "metadata": {},
   "outputs": [],
   "source": []
  }
 ],
 "metadata": {
  "kernelspec": {
   "display_name": "Python 3",
   "language": "python",
   "name": "python3"
  },
  "language_info": {
   "codemirror_mode": {
    "name": "ipython",
    "version": 3
   },
   "file_extension": ".py",
   "mimetype": "text/x-python",
   "name": "python",
   "nbconvert_exporter": "python",
   "pygments_lexer": "ipython3",
   "version": "3.7.2"
  },
  "latex_envs": {
   "LaTeX_envs_menu_present": true,
   "autoclose": false,
   "autocomplete": true,
   "bibliofile": "biblio.bib",
   "cite_by": "apalike",
   "current_citInitial": 1,
   "eqLabelWithNumbers": true,
   "eqNumInitial": 1,
   "hotkeys": {
    "equation": "Ctrl-E",
    "itemize": "Ctrl-I"
   },
   "labels_anchors": false,
   "latex_user_defs": false,
   "report_style_numbering": false,
   "user_envs_cfg": false
  },
  "nbTranslate": {
   "displayLangs": [
    "*"
   ],
   "hotkey": "alt-t",
   "langInMainMenu": true,
   "sourceLang": "en",
   "targetLang": "fr",
   "useGoogleTranslate": true
  }
 },
 "nbformat": 4,
 "nbformat_minor": 2
}
